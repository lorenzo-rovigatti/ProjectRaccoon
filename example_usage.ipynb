{
 "cells": [
  {
   "cell_type": "markdown",
   "metadata": {},
   "source": [
    "## Example: How to use Project RACCOON in a notebook"
   ]
  },
  {
   "cell_type": "markdown",
   "metadata": {},
   "source": [
    "Import the *Project RACCOON* library as rc. For advanced functionalities import *PDB2XYZ* and *Visualize* from the utils file."
   ]
  },
  {
   "cell_type": "code",
   "execution_count": 4,
   "metadata": {},
   "outputs": [],
   "source": [
    "import raccoon as rc \n",
    "from raccoon.src.functions.util import Visualize"
   ]
  },
  {
   "cell_type": "markdown",
   "metadata": {},
   "source": [
    "You can create sequences with the following command. They will be saved in *seq.txt*. Please refer to the documentation."
   ]
  },
  {
   "cell_type": "code",
   "execution_count": 5,
   "metadata": {},
   "outputs": [
    {
     "name": "stdout",
     "output_type": "stream",
     "text": [
      "Overwriting seq.txt\n"
     ]
    }
   ],
   "source": [
    "%%writefile seq.txt\n",
    "PHE:AA:0:3"
   ]
  },
  {
   "cell_type": "markdown",
   "metadata": {},
   "source": [
    "Monomers must be imported when working inside of a notebook. Standard monomers are available in the *raccoon/src/data/monomers.json* file. Sequences can be generated from a file as shown below."
   ]
  },
  {
   "cell_type": "code",
   "execution_count": 6,
   "metadata": {},
   "outputs": [],
   "source": [
    "monomers = rc.Monomers.from_json()\n",
    "seq = rc.generate_sequence(monomers, \"seq.txt\")"
   ]
  },
  {
   "cell_type": "markdown",
   "metadata": {},
   "source": [
    "PDB files can be generated from sequence files as shown below. You do **not** need to generate the sequence first. *generate_file* will do that automatically."
   ]
  },
  {
   "cell_type": "code",
   "execution_count": 7,
   "metadata": {},
   "outputs": [
    {
     "data": {
      "text/html": [
       "<pre style=\"white-space:pre;overflow-x:auto;line-height:normal;font-family:Menlo,'DejaVu Sans Mono',consolas,'Courier New',monospace\">Generating Coordinates\n",
       "</pre>\n"
      ],
      "text/plain": [
       "Generating Coordinates\n"
      ]
     },
     "metadata": {},
     "output_type": "display_data"
    },
    {
     "data": {
      "text/html": [
       "<pre style=\"white-space:pre;overflow-x:auto;line-height:normal;font-family:Menlo,'DejaVu Sans Mono',consolas,'Courier New',monospace\">Writing to File\n",
       "</pre>\n"
      ],
      "text/plain": [
       "Writing to File\n"
      ]
     },
     "metadata": {},
     "output_type": "display_data"
    },
    {
     "data": {
      "text/html": [
       "<pre style=\"white-space:pre;overflow-x:auto;line-height:normal;font-family:Menlo,'DejaVu Sans Mono',consolas,'Courier New',monospace\"><span style=\"color: #008000; text-decoration-color: #008000; font-weight: bold\">Created PDB file with </span><span style=\"color: #008080; text-decoration-color: #008080; font-weight: bold\">3</span><span style=\"color: #008000; text-decoration-color: #008000; font-weight: bold\"> residue and </span><span style=\"color: #008080; text-decoration-color: #008080; font-weight: bold\">60</span><span style=\"color: #008000; text-decoration-color: #008000; font-weight: bold\"> atoms to out.pdb.</span>\n",
       "</pre>\n"
      ],
      "text/plain": [
       "\u001b[1;32mCreated PDB file with \u001b[0m\u001b[1;36m3\u001b[0m\u001b[1;32m residue and \u001b[0m\u001b[1;36m60\u001b[0m\u001b[1;32m atoms to out.pdb.\u001b[0m\n"
      ]
     },
     "metadata": {},
     "output_type": "display_data"
    }
   ],
   "source": [
    "rc.generate_file(monomers, False, \"seq.txt\", \"out.pdb\")"
   ]
  },
  {
   "cell_type": "code",
   "execution_count": 8,
   "metadata": {},
   "outputs": [
    {
     "data": {
      "application/3dmoljs_load.v0": "<div id=\"3dmolviewer_17038642179343948\"  style=\"position: relative; width: 800px; height: 500px;\">\n        <p id=\"3dmolwarning_17038642179343948\" style=\"background-color:#ffcccc;color:black\">You appear to be running in JupyterLab (or JavaScript failed to load for some other reason).  You need to install the 3dmol extension: <br>\n        <tt>jupyter labextension install jupyterlab_3dmol</tt></p>\n        </div>\n<script>\n\nvar loadScriptAsync = function(uri){\n  return new Promise((resolve, reject) => {\n    //this is to ignore the existence of requirejs amd\n    var savedexports, savedmodule;\n    if (typeof exports !== 'undefined') savedexports = exports;\n    else exports = {}\n    if (typeof module !== 'undefined') savedmodule = module;\n    else module = {}\n\n    var tag = document.createElement('script');\n    tag.src = uri;\n    tag.async = true;\n    tag.onload = () => {\n        exports = savedexports;\n        module = savedmodule;\n        resolve();\n    };\n  var firstScriptTag = document.getElementsByTagName('script')[0];\n  firstScriptTag.parentNode.insertBefore(tag, firstScriptTag);\n});\n};\n\nif(typeof $3Dmolpromise === 'undefined') {\n$3Dmolpromise = null;\n  $3Dmolpromise = loadScriptAsync('https://cdnjs.cloudflare.com/ajax/libs/3Dmol/2.0.4/3Dmol-min.js');\n}\n\nvar viewer_17038642179343948 = null;\nvar warn = document.getElementById(\"3dmolwarning_17038642179343948\");\nif(warn) {\n    warn.parentNode.removeChild(warn);\n}\n$3Dmolpromise.then(function() {\nvar viewergrid_17038642179343948 = null;\nviewergrid_17038642179343948 = $3Dmol.createViewerGrid(document.getElementById(\"3dmolviewer_17038642179343948\"),{rows: 1, cols: 1, control_all: true},{backgroundColor:\"white\"});\nviewer_17038642179343948 = viewergrid_17038642179343948[0][0];\nviewergrid_17038642179343948[0][0].zoomTo();\tviewergrid_17038642179343948[0][0].addModel(\"ATOM   1    N    PHE A  1     2.58    -1.16   -5.87     1.0    0.0           N\\nATOM   2    CA   PHE A  1     2.61    -0.69   -4.48     1.0    0.0           C\\nATOM   3    C    PHE A  1     1.76    -1.53   -3.58     1.0    0.0           C\\nATOM   4    O    PHE A  1     1.01    -2.28   -2.7      1.0    0.0           O\\nATOM   5    CB   PHE A  1     2.29    0.83    -4.36     1.0    0.0           C\\nATOM   6    CG   PHE A  1     0.94    1.42    -4.73     1.0    0.0           C\\nATOM   7    CD1  PHE A  1     -0.16   0.64    -5.1      1.0    0.0           C\\nATOM   8    CE1  PHE A  1     -1.4    1.22    -5.37     1.0    0.0           C\\nATOM   9    CZ   PHE A  1     -1.56   2.6     -5.29     1.0    0.0           C\\nATOM   10   CE2  PHE A  1     -0.48   3.4     -4.94     1.0    0.0           C\\nATOM   11   CD2  PHE A  1     0.76    2.81    -4.66     1.0    0.0           C\\nATOM   12   HB1  PHE A  1     2.48    1.12    -3.32     1.0    0.0           H\\nATOM   13   HB2  PHE A  1     3.04    1.36    -4.97     1.0    0.0           H\\nATOM   14   HA   PHE A  1     3.63    -0.81   -4.1      1.0    0.0           H\\nATOM   15   H    PHE A  1     2.33    -2.15   -5.85     1.0    0.0           H\\nATOM   16   HD2  PHE A  1     1.61    3.44    -4.38     1.0    0.0           H\\nATOM   17   HE2  PHE A  1     -0.59   4.47    -4.88     1.0    0.0           H\\nATOM   18   HZ   PHE A  1     -2.53   3.04    -5.5      1.0    0.0           H\\nATOM   19   HE1  PHE A  1     -2.23   0.57    -5.64     1.0    0.0           H\\nATOM   20   HD1  PHE A  1     -0.04   -0.45   -5.15     1.0    0.0           H\\nATOM   21   N    PHE A  2     2.07    -0.48   -0.47     1.0    0.0           N\\nATOM   22   CA   PHE A  2     2.09    -0.01   0.93      1.0    0.0           C\\nATOM   23   C    PHE A  2     1.25    -0.85   1.83      1.0    0.0           C\\nATOM   24   O    PHE A  2     0.49    -1.6    2.71      1.0    0.0           O\\nATOM   25   CB   PHE A  2     1.78    1.51    1.04      1.0    0.0           C\\nATOM   26   CG   PHE A  2     0.42    2.1     0.67      1.0    0.0           C\\nATOM   27   CD1  PHE A  2     -0.67   1.32    0.31      1.0    0.0           C\\nATOM   28   CE1  PHE A  2     -1.91   1.9     0.03      1.0    0.0           C\\nATOM   29   CZ   PHE A  2     -2.07   3.28    0.11      1.0    0.0           C\\nATOM   30   CE2  PHE A  2     -0.99   4.08    0.46      1.0    0.0           C\\nATOM   31   CD2  PHE A  2     0.25    3.49    0.74      1.0    0.0           C\\nATOM   32   HB1  PHE A  2     1.97    1.81    2.08      1.0    0.0           H\\nATOM   33   HB2  PHE A  2     2.53    2.04    0.43      1.0    0.0           H\\nATOM   34   HA   PHE A  2     3.12    -0.13   1.3       1.0    0.0           H\\nATOM   35   H    PHE A  2     1.81    -1.47   -0.44     1.0    0.0           H\\nATOM   36   HD2  PHE A  2     1.09    4.12    1.02      1.0    0.0           H\\nATOM   37   HE2  PHE A  2     -1.1    5.16    0.53      1.0    0.0           H\\nATOM   38   HZ   PHE A  2     -3.04   3.72    -0.1      1.0    0.0           H\\nATOM   39   HE1  PHE A  2     -2.74   1.25    -0.23     1.0    0.0           H\\nATOM   40   HD1  PHE A  2     -0.56   0.23    0.25      1.0    0.0           H\\nATOM   41   N    PHE A  3     2.36    -1.12   -7.76     1.0    0.0           N\\nATOM   42   CA   PHE A  3     2.38    -0.65   -6.37     1.0    0.0           C\\nATOM   43   C    PHE A  3     1.54    -1.49   -5.47     1.0    0.0           C\\nATOM   44   O    PHE A  3     0.79    -2.25   -4.59     1.0    0.0           O\\nATOM   45   CB   PHE A  3     2.07    0.87    -6.25     1.0    0.0           C\\nATOM   46   CG   PHE A  3     0.72    1.45    -6.62     1.0    0.0           C\\nATOM   47   CD1  PHE A  3     -0.38   0.67    -6.99     1.0    0.0           C\\nATOM   48   CE1  PHE A  3     -1.62   1.25    -7.26     1.0    0.0           C\\nATOM   49   CZ   PHE A  3     -1.78   2.63    -7.18     1.0    0.0           C\\nATOM   50   CE2  PHE A  3     -0.7    3.43    -6.83     1.0    0.0           C\\nATOM   51   CD2  PHE A  3     0.54    2.85    -6.55     1.0    0.0           C\\nATOM   52   HB1  PHE A  3     2.26    1.16    -5.21     1.0    0.0           H\\nATOM   53   HB2  PHE A  3     2.82    1.4     -6.86     1.0    0.0           H\\nATOM   54   HA   PHE A  3     3.41    -0.77   -5.99     1.0    0.0           H\\nATOM   55   H    PHE A  3     2.11    -2.12   -7.74     1.0    0.0           H\\nATOM   56   HD2  PHE A  3     1.38    3.47    -6.27     1.0    0.0           H\\nATOM   57   HE2  PHE A  3     -0.81   4.51    -6.77     1.0    0.0           H\\nATOM   58   HZ   PHE A  3     -2.75   3.08    -7.39     1.0    0.0           H\\nATOM   59   HE1  PHE A  3     -2.45   0.6     -7.53     1.0    0.0           H\\nATOM   60   HD1  PHE A  3     -0.26   -0.41   -7.04     1.0    0.0           H\\nCONECT 3    1                                                                \\nCONECT 1    23                                                               \\nCONECT 23   21                                                               \\nCONECT 21   43                                                               \\nCONECT 43   41                                                               \\nMASTER     0    0    0   0    0    0    0    0    60   0    60   0\\nEND\",\"pdb\");\n\tviewergrid_17038642179343948[0][0].setStyle({\"sphere\": {}});\n\tviewergrid_17038642179343948[0][0].zoomTo();\nviewergrid_17038642179343948[0][0].render();\n});\n</script>",
      "text/html": [
       "<div id=\"3dmolviewer_17038642179343948\"  style=\"position: relative; width: 800px; height: 500px;\">\n",
       "        <p id=\"3dmolwarning_17038642179343948\" style=\"background-color:#ffcccc;color:black\">You appear to be running in JupyterLab (or JavaScript failed to load for some other reason).  You need to install the 3dmol extension: <br>\n",
       "        <tt>jupyter labextension install jupyterlab_3dmol</tt></p>\n",
       "        </div>\n",
       "<script>\n",
       "\n",
       "var loadScriptAsync = function(uri){\n",
       "  return new Promise((resolve, reject) => {\n",
       "    //this is to ignore the existence of requirejs amd\n",
       "    var savedexports, savedmodule;\n",
       "    if (typeof exports !== 'undefined') savedexports = exports;\n",
       "    else exports = {}\n",
       "    if (typeof module !== 'undefined') savedmodule = module;\n",
       "    else module = {}\n",
       "\n",
       "    var tag = document.createElement('script');\n",
       "    tag.src = uri;\n",
       "    tag.async = true;\n",
       "    tag.onload = () => {\n",
       "        exports = savedexports;\n",
       "        module = savedmodule;\n",
       "        resolve();\n",
       "    };\n",
       "  var firstScriptTag = document.getElementsByTagName('script')[0];\n",
       "  firstScriptTag.parentNode.insertBefore(tag, firstScriptTag);\n",
       "});\n",
       "};\n",
       "\n",
       "if(typeof $3Dmolpromise === 'undefined') {\n",
       "$3Dmolpromise = null;\n",
       "  $3Dmolpromise = loadScriptAsync('https://cdnjs.cloudflare.com/ajax/libs/3Dmol/2.0.4/3Dmol-min.js');\n",
       "}\n",
       "\n",
       "var viewer_17038642179343948 = null;\n",
       "var warn = document.getElementById(\"3dmolwarning_17038642179343948\");\n",
       "if(warn) {\n",
       "    warn.parentNode.removeChild(warn);\n",
       "}\n",
       "$3Dmolpromise.then(function() {\n",
       "var viewergrid_17038642179343948 = null;\n",
       "viewergrid_17038642179343948 = $3Dmol.createViewerGrid(document.getElementById(\"3dmolviewer_17038642179343948\"),{rows: 1, cols: 1, control_all: true},{backgroundColor:\"white\"});\n",
       "viewer_17038642179343948 = viewergrid_17038642179343948[0][0];\n",
       "viewergrid_17038642179343948[0][0].zoomTo();\tviewergrid_17038642179343948[0][0].addModel(\"ATOM   1    N    PHE A  1     2.58    -1.16   -5.87     1.0    0.0           N\\nATOM   2    CA   PHE A  1     2.61    -0.69   -4.48     1.0    0.0           C\\nATOM   3    C    PHE A  1     1.76    -1.53   -3.58     1.0    0.0           C\\nATOM   4    O    PHE A  1     1.01    -2.28   -2.7      1.0    0.0           O\\nATOM   5    CB   PHE A  1     2.29    0.83    -4.36     1.0    0.0           C\\nATOM   6    CG   PHE A  1     0.94    1.42    -4.73     1.0    0.0           C\\nATOM   7    CD1  PHE A  1     -0.16   0.64    -5.1      1.0    0.0           C\\nATOM   8    CE1  PHE A  1     -1.4    1.22    -5.37     1.0    0.0           C\\nATOM   9    CZ   PHE A  1     -1.56   2.6     -5.29     1.0    0.0           C\\nATOM   10   CE2  PHE A  1     -0.48   3.4     -4.94     1.0    0.0           C\\nATOM   11   CD2  PHE A  1     0.76    2.81    -4.66     1.0    0.0           C\\nATOM   12   HB1  PHE A  1     2.48    1.12    -3.32     1.0    0.0           H\\nATOM   13   HB2  PHE A  1     3.04    1.36    -4.97     1.0    0.0           H\\nATOM   14   HA   PHE A  1     3.63    -0.81   -4.1      1.0    0.0           H\\nATOM   15   H    PHE A  1     2.33    -2.15   -5.85     1.0    0.0           H\\nATOM   16   HD2  PHE A  1     1.61    3.44    -4.38     1.0    0.0           H\\nATOM   17   HE2  PHE A  1     -0.59   4.47    -4.88     1.0    0.0           H\\nATOM   18   HZ   PHE A  1     -2.53   3.04    -5.5      1.0    0.0           H\\nATOM   19   HE1  PHE A  1     -2.23   0.57    -5.64     1.0    0.0           H\\nATOM   20   HD1  PHE A  1     -0.04   -0.45   -5.15     1.0    0.0           H\\nATOM   21   N    PHE A  2     2.07    -0.48   -0.47     1.0    0.0           N\\nATOM   22   CA   PHE A  2     2.09    -0.01   0.93      1.0    0.0           C\\nATOM   23   C    PHE A  2     1.25    -0.85   1.83      1.0    0.0           C\\nATOM   24   O    PHE A  2     0.49    -1.6    2.71      1.0    0.0           O\\nATOM   25   CB   PHE A  2     1.78    1.51    1.04      1.0    0.0           C\\nATOM   26   CG   PHE A  2     0.42    2.1     0.67      1.0    0.0           C\\nATOM   27   CD1  PHE A  2     -0.67   1.32    0.31      1.0    0.0           C\\nATOM   28   CE1  PHE A  2     -1.91   1.9     0.03      1.0    0.0           C\\nATOM   29   CZ   PHE A  2     -2.07   3.28    0.11      1.0    0.0           C\\nATOM   30   CE2  PHE A  2     -0.99   4.08    0.46      1.0    0.0           C\\nATOM   31   CD2  PHE A  2     0.25    3.49    0.74      1.0    0.0           C\\nATOM   32   HB1  PHE A  2     1.97    1.81    2.08      1.0    0.0           H\\nATOM   33   HB2  PHE A  2     2.53    2.04    0.43      1.0    0.0           H\\nATOM   34   HA   PHE A  2     3.12    -0.13   1.3       1.0    0.0           H\\nATOM   35   H    PHE A  2     1.81    -1.47   -0.44     1.0    0.0           H\\nATOM   36   HD2  PHE A  2     1.09    4.12    1.02      1.0    0.0           H\\nATOM   37   HE2  PHE A  2     -1.1    5.16    0.53      1.0    0.0           H\\nATOM   38   HZ   PHE A  2     -3.04   3.72    -0.1      1.0    0.0           H\\nATOM   39   HE1  PHE A  2     -2.74   1.25    -0.23     1.0    0.0           H\\nATOM   40   HD1  PHE A  2     -0.56   0.23    0.25      1.0    0.0           H\\nATOM   41   N    PHE A  3     2.36    -1.12   -7.76     1.0    0.0           N\\nATOM   42   CA   PHE A  3     2.38    -0.65   -6.37     1.0    0.0           C\\nATOM   43   C    PHE A  3     1.54    -1.49   -5.47     1.0    0.0           C\\nATOM   44   O    PHE A  3     0.79    -2.25   -4.59     1.0    0.0           O\\nATOM   45   CB   PHE A  3     2.07    0.87    -6.25     1.0    0.0           C\\nATOM   46   CG   PHE A  3     0.72    1.45    -6.62     1.0    0.0           C\\nATOM   47   CD1  PHE A  3     -0.38   0.67    -6.99     1.0    0.0           C\\nATOM   48   CE1  PHE A  3     -1.62   1.25    -7.26     1.0    0.0           C\\nATOM   49   CZ   PHE A  3     -1.78   2.63    -7.18     1.0    0.0           C\\nATOM   50   CE2  PHE A  3     -0.7    3.43    -6.83     1.0    0.0           C\\nATOM   51   CD2  PHE A  3     0.54    2.85    -6.55     1.0    0.0           C\\nATOM   52   HB1  PHE A  3     2.26    1.16    -5.21     1.0    0.0           H\\nATOM   53   HB2  PHE A  3     2.82    1.4     -6.86     1.0    0.0           H\\nATOM   54   HA   PHE A  3     3.41    -0.77   -5.99     1.0    0.0           H\\nATOM   55   H    PHE A  3     2.11    -2.12   -7.74     1.0    0.0           H\\nATOM   56   HD2  PHE A  3     1.38    3.47    -6.27     1.0    0.0           H\\nATOM   57   HE2  PHE A  3     -0.81   4.51    -6.77     1.0    0.0           H\\nATOM   58   HZ   PHE A  3     -2.75   3.08    -7.39     1.0    0.0           H\\nATOM   59   HE1  PHE A  3     -2.45   0.6     -7.53     1.0    0.0           H\\nATOM   60   HD1  PHE A  3     -0.26   -0.41   -7.04     1.0    0.0           H\\nCONECT 3    1                                                                \\nCONECT 1    23                                                               \\nCONECT 23   21                                                               \\nCONECT 21   43                                                               \\nCONECT 43   41                                                               \\nMASTER     0    0    0   0    0    0    0    0    60   0    60   0\\nEND\",\"pdb\");\n",
       "\tviewergrid_17038642179343948[0][0].setStyle({\"sphere\": {}});\n",
       "\tviewergrid_17038642179343948[0][0].zoomTo();\n",
       "viewergrid_17038642179343948[0][0].render();\n",
       "});\n",
       "</script>"
      ]
     },
     "metadata": {},
     "output_type": "display_data"
    }
   ],
   "source": [
    "Visualize(\"out.pdb\")"
   ]
  }
 ],
 "metadata": {
  "kernelspec": {
   "display_name": "Python 3 (ipykernel)",
   "language": "python",
   "name": "python3"
  },
  "language_info": {
   "codemirror_mode": {
    "name": "ipython",
    "version": 3
   },
   "file_extension": ".py",
   "mimetype": "text/x-python",
   "name": "python",
   "nbconvert_exporter": "python",
   "pygments_lexer": "ipython3",
   "version": "3.11.6"
  }
 },
 "nbformat": 4,
 "nbformat_minor": 4
}
