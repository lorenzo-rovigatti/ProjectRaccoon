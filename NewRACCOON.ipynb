{
 "cells": [
  {
   "cell_type": "code",
   "execution_count": 32,
   "id": "8e8db182-172f-43d5-ab74-789c811eda35",
   "metadata": {
    "tags": []
   },
   "outputs": [],
   "source": [
    "import numpy as np\n",
    "import os\n",
    "import pandas as pd\n",
    "import ast"
   ]
  },
  {
   "cell_type": "markdown",
   "id": "520e44da-8c38-49bb-8e56-f6df8c9eb65b",
   "metadata": {
    "tags": []
   },
   "source": [
    "###### Functions\n",
    "# Initialize monomers from a text file and import them to the python environment.\n",
    "\n",
    "def InitializeMonomers(file_name):\n",
    "    result = [{}]\n",
    "    with open(file_name) as inpt:\n",
    "        for line in inpt:\n",
    "            if line.startswith('#'):\n",
    "                continue\n",
    "            if line.strip() == '':\n",
    "                result.append({})\n",
    "            else:\n",
    "                key, value = line.split('=')\n",
    "                result[-1][key] = value.strip()\n",
    "        for item in result:\n",
    "            item['polymer'] = bool(item['polymer'])\n",
    "            item['atoms'] = int(item['atoms'])\n",
    "            item['link'] = ast.literal_eval(item['link'])\n",
    "            for x in range(1,item['atoms']+1):\n",
    "                item[x] = ast.literal_eval(item.pop(f'{x}'))\n",
    "        print(f'Successfully imported {len(result)} monomers.')\n",
    "    return result\n",
    "\n",
    "#  Normalization of Atom Positions\n",
    "\n",
    "def Normalization(monomer):\n",
    "\n",
    "    reference = [0] * 3\n",
    "    for x in range(0,3):\n",
    "        reference[x] = monomer[1][x+2]\n",
    "    for x in range(1,(monomer['atoms']+1)):\n",
    "        for y in range(2,5):\n",
    "            monomer[x][y] = np.round((monomer[x][y] - reference[y-2]), 5)\n",
    "    return (monomer)\n",
    "\n",
    "\n",
    "# Updating the monomer position after each succesful monomer addition step.\n",
    "\n",
    "def UpdateMonomer(monomer, shift, shift_cartesian, resid):\n",
    "    \n",
    "    # Update the linking atoms / beads due to the renaming of the atoms / beads\n",
    "    \n",
    "    try:\n",
    "        monomer[\"link\"][0] = monomer[\"link\"][0] + (shift-1)\n",
    "        monomer[\"link\"][1] = monomer[\"link\"][1] + (shift-1)\n",
    "    except:\n",
    "        pass\n",
    "    \n",
    "    i = 1\n",
    "    \n",
    "    while i <= monomer[\"atoms\"]:\n",
    "        \n",
    "        # Update Cartesian Positions\n",
    "        \n",
    "        for j in range(2,5):\n",
    "            monomer[i][j] = np.round(monomer[i][j] + shift_cartesian[j-3], 2)\n",
    "            \n",
    "        # Renaming the atoms / beads\n",
    "        \n",
    "        monomer[i][6] += (shift-1)\n",
    "        \n",
    "        # Renaming the neighboring atoms / beads\n",
    "        \n",
    "        for j in range(0, len(monomer[i][5])):\n",
    "            monomer[i][5][j] = monomer[i][5][j] + (shift-1)\n",
    "        i += 1  \n",
    "\n",
    "    \n",
    "# This function opens the PDB file and adds a polymer chain with a given repeating unit, chain length and resid_shift\n",
    "# Might be a useful function for long repeating chains\n",
    "\n",
    "def CreatePolymerChain(monomer, chain_length, filename, resid_shift):\n",
    "    \n",
    "    global links\n",
    "    global atom_counter\n",
    "    \n",
    "    links = []\n",
    "    atom_counter = monomer['atoms'] * chain_length\n",
    "    \n",
    "    # Ensures a conversion from standard cartesian coordinates to coordinates that are centered around the first atom / bead\n",
    "    \n",
    "    monomer = Normalization(monomer)\n",
    "    \n",
    "    for unit in range(chain_length):\n",
    "        # Setting the resid (this can be shifted)\n",
    "        resid = unit + 1 + resid_shift\n",
    "        \n",
    "        # Adding linkage points of the monomer to a global list\n",
    "        \n",
    "        # Tries to add the C-Terminus links\n",
    "        try:\n",
    "          links.append(monomer[\"link\"][1])\n",
    "        except:\n",
    "          pass\n",
    "        # Tries to add the N-Terminus links\n",
    "        try:\n",
    "          links.append(monomer[\"link\"][0])\n",
    "        except:\n",
    "          pass\n",
    "        \n",
    "        with open(f\"{filename}.pdb\", \"a\") as file:\n",
    "            i=1\n",
    "            # Writing every atom / bead of the monomer in a new line\n",
    "            while i <= monomer[\"atoms\"]:\n",
    "                # Ensures right PDB file construction (spaces are important!)\n",
    "                file.write(\"{:>0}{:<7}{:<5}{:<5}{:<4}{:<3}{:<6}{:<8}{:<8}{:<10}{:<7}{:<14}{}\\n\".format(\"\", \"ATOM\", monomer[i][6], monomer[i][0], monomer[\"res\"], \"A\", resid, monomer[i][2], monomer[i][3], monomer[i][4], 1.0, 0.0, monomer[i][1]))\n",
    "                i += 1\n",
    "        # UpdateDic: Updating the monomer for the next chain segment\n",
    "        # s: Renames the atoms / beads consecutively\n",
    "        # m: list of xyz cartesian shifts (this could be a function itself, so it is not only linear)\n",
    "        m = [1,1,1]\n",
    "        s = monomer['atoms'] + 1\n",
    "        UpdateMonomer(monomer, s, m, unit+1)\n",
    "        file.close()      \n",
    "            \n",
    "# This function is needed to sort the PDB file after adding the bonds               \n",
    "def Sorting(filename):\n",
    "    with open(f\"{filename}.pdb\", \"r\") as input_file, open(f\"{filename}-copy.pdb\", \"w\") as output_file:\n",
    "        rows = input_file.readlines()\n",
    "        sorted_rows = sorted(rows, key=lambda x: x.split()[0])\n",
    "        output_file.writelines(sorted_rows)\n",
    "\n",
    "# Closes the PDB file. Needs the overall number of atoms / beads!\n",
    "def CloseFile(filename, number):\n",
    "     with open(f\"{filename}.pdb\", \"a\") as file:\n",
    "        file.write(\"{:>0}{:<11}{:<5}{:<5}{:<4}{:<5}{:<5}{:<5}{:<5}{:<5}{:<5}{:<5}{:<5}{}\\n\".format(\"\", \"MASTER\", 0, 0, 0, 0, 0, 0, 0, 0, number, 0, number, 0))\n",
    "        file.write(\"END\")\n",
    "\n",
    "# Creates the lines for the inter-monomer bonds / linkages. Needs a list of all links.\n",
    "def Bonds(links, filename):\n",
    "    for i in range(0, len(links)-1, 2):\n",
    "        with open(f\"{filename}.pdb\", \"a\") as file:\n",
    "            file.write(\"{:>0}{:<7}{:<5}{:<5}{:<4}{:<3}{:<6}{:<8}{:<8}{:<10}{:<7}{:<14}{}\\n\".format(\"\", \"CONECT\", links[i], links[i+1], \"\", \"\", \"\", \"\", \"\", \"\", \"\", \"\", \"\", \"\"))\n",
    "\n"
   ]
  },
  {
   "cell_type": "code",
   "execution_count": 132,
   "id": "f094c8a9-94bc-4e61-ae6a-9ac56231d400",
   "metadata": {
    "tags": []
   },
   "outputs": [
    {
     "name": "stdout",
     "output_type": "stream",
     "text": [
      "Successfully imported 2 monomers.\n"
     ]
    }
   ],
   "source": [
    "os.remove('test.pdb')\n",
    "CreatePolymerChain(monomers[1],100,'test',0)\n",
    "Bonds(links, 'test')\n",
    "Sorting('test')\n",
    "CloseFile('test', atom_counter)\n"
   ]
  },
  {
   "cell_type": "code",
   "execution_count": 164,
   "id": "7cb2145f-a2ec-49b1-bc70-d3656c172414",
   "metadata": {
    "tags": []
   },
   "outputs": [],
   "source": [
    "def Sequence(file_name):\n",
    "    result = []\n",
    "    sequence = []\n",
    "    with open(file_name) as inpt:\n",
    "        for line in inpt:\n",
    "            if line.startswith('#'):\n",
    "                continue\n",
    "            if line.strip() == '':\n",
    "                result.append({})\n",
    "            else:\n",
    "                res, resolution, inverse, repeat = line.split(':')\n",
    "                for x in range(int(repeat)):\n",
    "                    if resolution == 'AA':\n",
    "                        resolution_lookup = 'atomistic'\n",
    "                    elif resolution == 'UA':\n",
    "                        resolution_lookup = 'united_atom'\n",
    "                    elif resolution == 'CG':\n",
    "                        resolution_lookup = 'coarse_grained'\n",
    "                   \n",
    "                    index = next((i for i, d in enumerate(monomers) if (d.get('res') == res) and (d.get('resolution') == resolution_lookup)), None)\n",
    "                \n",
    "                    result.append(f'monomers[{index}]')\n",
    "    #for item in result:\n",
    "        #sequence.append(ast.literal_eval(item))\n",
    "        \n",
    "\n",
    "    return result"
   ]
  },
  {
   "cell_type": "code",
   "execution_count": 191,
   "id": "be7d46d5-769e-4421-8382-64ae32d10ef6",
   "metadata": {
    "tags": []
   },
   "outputs": [
    {
     "name": "stdout",
     "output_type": "stream",
     "text": [
      "Successfully imported 2 monomers.\n",
      "monomers[1]\n",
      "{'res': 'PEO', 'resolution': 'united_atom', 'polymer': True, 'atoms': 3, 'link': [3, 1], 1: ['CA', 'C', 1.18, -0.011, -0.29, [2, 0], 1], 2: ['CB', 'C', 1.09, -0.01, 1.19, [1, 3], 2], 3: ['O', 'O', -0.08, 0.5, 1.44, [4, 8], 3]}\n"
     ]
    }
   ],
   "source": [
    "monomers = InitializeMonomers('newmonomer.txt')\n",
    "test = Sequence(\"seq.txt\")[0]\n",
    "print((test))\n",
    "\n",
    "seq = eval(test)\n",
    "print(seq)"
   ]
  },
  {
   "cell_type": "code",
   "execution_count": null,
   "id": "5ba94577-329b-477e-a70d-dbbe053968f0",
   "metadata": {},
   "outputs": [],
   "source": []
  },
  {
   "cell_type": "code",
   "execution_count": null,
   "id": "2f92b6c8-dbb7-4de9-b5b3-8d2862ae075d",
   "metadata": {},
   "outputs": [],
   "source": []
  }
 ],
 "metadata": {
  "kernelspec": {
   "display_name": "Python 3 (ipykernel)",
   "language": "python",
   "name": "python3"
  },
  "language_info": {
   "codemirror_mode": {
    "name": "ipython",
    "version": 3
   },
   "file_extension": ".py",
   "mimetype": "text/x-python",
   "name": "python",
   "nbconvert_exporter": "python",
   "pygments_lexer": "ipython3",
   "version": "3.10.11"
  }
 },
 "nbformat": 4,
 "nbformat_minor": 5
}
